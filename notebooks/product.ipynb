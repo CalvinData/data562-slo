{
  "cells": [
    {
      "attachments": {},
      "cell_type": "markdown",
      "metadata": {
        "id": "sJ72Lx7iaGB4"
      },
      "source": [
        "**DATA 562 - Project**  \n",
        "Social License to Operate<sup>*</sup>  \n",
        "K. VanderLinden  \n",
        "Spring 2024  \n",
        "\n",
        "### Background\n",
        "\n",
        "Australian coal mining companies suffer from bad PR (probably justifiably so), so they would like an effective way of determining what people are saying, for or against them, so that they can respond appropriately. This would help them earn what is commonly called a [*Social License to Operate* (SLO)](https://www.investopedia.com/terms/s/social-license-slo.asp), that is, stakeholder acceptance of their work. Surveys and focus groups are time-consuming and expensive, but an automated means to keeping track of user opinions would help.\n",
        "\n",
        "### Value Proposition\n",
        "\n",
        "A real-time dashboard that monitors public opinion would help the mining companies or, frankly, any public or private organization. Leveraging positive public opinion or addressing negative public opinion might not be easy, but at least the companies would know where they stand. Twitter, at least until recently, has been a potential source of current user opinions.\n",
        "\n",
        "### Objectives\n",
        "\n",
        "- Monitor the Twitter stream, filtering it for comments on Australian mining companies.\n",
        "- Classify the filtered tweets as positive/neutral/negative (i.e., multi-class, low-cardinality) with respect to the mining companies. We could consider simplifying to positive/negative classification only.\n",
        "- Calculate the level of SLO of the companies over time.\n",
        "- Display the SLO level and a representative list of topics trending in the live commentary.\n",
        "\n",
        "### Solution\n",
        "\n",
        "Build a dashboard such as the following:\n",
        "\n",
        "![](../images/slo_prototype-adani.png?raw=1){width=80%}\n",
        "\n",
        "### Feasibility\n",
        "\n",
        "This tool was built but never fielded, to my knowledge. So, it's feasible but perhaps not sufficiently useful and/or interesting.\n",
        "\n",
        "### Data\n",
        "\n",
        "The data will come from the Twitter firehose (or, at least, it used to - the dataset we have now is static and died in ~2017). Considerable infrastructure would be required to re-attach the full Twitter feed. Perhaps other, newer media feeds would be better.\n",
        "\n",
        "Some hand-coding and semi-automatic coding was required to build train/test-sets.\n",
        "\n",
        "<sup>*</sup> This sample project is based on work done at [CSIRO/Data61](https://research.csiro.au/data61/) between 2015-2020 ([Xu et al, COLING-2020, industry track](https://aclanthology.org/2020.coling-industry.14/)).\n",
        "\n",
        "### Assessment\n",
        "\n",
        "The SLO system was designed to give organizations better insight into their public perception more quickly. One key concern with its development and use was the danger that distilling actionable information from data taken from social media, with its not-so-hidden biases, would lead to skewed and even inaccurate results. Another key concern was the possibility that the system would be used, not to help public relations professionals in organizations, but to replace them. To help avoid these issues, we worked with internal and external experts to design a support tool rather than a human replacement. The idea was that by using the SLO system to take the &ldquo;pulse&rdquo; of public opinion towards an organization in real time, through the lens of social media, the SLO tool would complement the in-depth analysis done through surveys and focus groups, providing an early indication of trends, and potentially informing the design and targeting of in-depth surveys.\n"
      ]
    },
    {
      "cell_type": "code",
      "execution_count": 1,
      "metadata": {},
      "outputs": [
        {
          "name": "stdout",
          "output_type": "stream",
          "text": [
            "Hello, Python Notebook!\n"
          ]
        }
      ],
      "source": [
        "print(\"Hello, Python Notebook!\")"
      ]
    }
  ],
  "metadata": {
    "colab": {
      "include_colab_link": true,
      "provenance": []
    },
    "kernelspec": {
      "display_name": "venv",
      "language": "python",
      "name": "python3"
    },
    "language_info": {
      "codemirror_mode": {
        "name": "ipython",
        "version": 3
      },
      "file_extension": ".py",
      "mimetype": "text/x-python",
      "name": "python",
      "nbconvert_exporter": "python",
      "pygments_lexer": "ipython3",
      "version": "3.10.12"
    },
    "orig_nbformat": 4
  },
  "nbformat": 4,
  "nbformat_minor": 0
}
